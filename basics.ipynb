{
 "cells": [
  {
   "cell_type": "code",
   "execution_count": 1,
   "metadata": {},
   "outputs": [
    {
     "name": "stdout",
     "output_type": "stream",
     "text": [
      "Hi !!!\n"
     ]
    }
   ],
   "source": [
    "# print command\n",
    "print('Hi !!!')"
   ]
  },
  {
   "cell_type": "code",
   "execution_count": 2,
   "metadata": {},
   "outputs": [],
   "source": [
    "# int(), float(), str(), complex() ,,,,, type casting\n",
    "v = int(12.585)\n",
    "x = str(100)\n",
    "y = float(10)\n",
    "c = complex(10)"
   ]
  },
  {
   "cell_type": "code",
   "execution_count": 3,
   "metadata": {},
   "outputs": [
    {
     "name": "stdout",
     "output_type": "stream",
     "text": [
      "12\n",
      "100\n",
      "10.0\n",
      "(10+0j)\n"
     ]
    }
   ],
   "source": [
    "print(v)\n",
    "print(x)\n",
    "print(y)\n",
    "print(c)\n"
   ]
  },
  {
   "cell_type": "code",
   "execution_count": 4,
   "metadata": {},
   "outputs": [
    {
     "name": "stdout",
     "output_type": "stream",
     "text": [
      "Enter your name :AHMED\n"
     ]
    }
   ],
   "source": [
    "# Read input()\n",
    "x = input('Enter your name :') "
   ]
  },
  {
   "cell_type": "code",
   "execution_count": 5,
   "metadata": {},
   "outputs": [],
   "source": [
    "# ///////////// Excirse LAB ////////////// SIMPLE CALCULATOR "
   ]
  },
  {
   "cell_type": "code",
   "execution_count": 7,
   "metadata": {},
   "outputs": [
    {
     "name": "stdout",
     "output_type": "stream",
     "text": [
      "Plz enter first number: 15\n",
      "Plz enter second number: 17\n",
      "Sum = 32.0\n",
      "SUB = -2.0\n",
      "Multi = 255.0\n",
      "Div = 0.8823529411764706\n"
     ]
    }
   ],
   "source": [
    "# First number \n",
    "num1 = float(input('Plz enter first number: '))\n",
    "# Second number \n",
    "num2 = float(input('Plz enter second number: '))\n",
    "# Operation (+)\n",
    "z = num1+num2\n",
    "print(\"Sum =\", z)\n",
    "# Operation (-)\n",
    "a = num1-num2\n",
    "print('SUB =', a)\n",
    "# Operation (*)\n",
    "q = num1*num2\n",
    "print('Multi =', q)\n",
    "# Operation (/)\n",
    "w = num1/num2\n",
    "print('Div =', w)\n"
   ]
  },
  {
   "cell_type": "code",
   "execution_count": 8,
   "metadata": {},
   "outputs": [],
   "source": [
    "# Conditinal & Logical Operators ....."
   ]
  },
  {
   "cell_type": "code",
   "execution_count": 9,
   "metadata": {},
   "outputs": [],
   "source": [
    "#  1- Comparison Operators ...... (< , > , <= >= , == , !=)"
   ]
  },
  {
   "cell_type": "code",
   "execution_count": 10,
   "metadata": {},
   "outputs": [
    {
     "data": {
      "text/plain": [
       "True"
      ]
     },
     "execution_count": 10,
     "metadata": {},
     "output_type": "execute_result"
    }
   ],
   "source": [
    "5<10"
   ]
  },
  {
   "cell_type": "code",
   "execution_count": 11,
   "metadata": {},
   "outputs": [
    {
     "data": {
      "text/plain": [
       "False"
      ]
     },
     "execution_count": 11,
     "metadata": {},
     "output_type": "execute_result"
    }
   ],
   "source": [
    "5>10"
   ]
  },
  {
   "cell_type": "code",
   "execution_count": 12,
   "metadata": {},
   "outputs": [
    {
     "data": {
      "text/plain": [
       "False"
      ]
     },
     "execution_count": 12,
     "metadata": {},
     "output_type": "execute_result"
    }
   ],
   "source": [
    "5==4\n",
    "5 is 4"
   ]
  },
  {
   "cell_type": "code",
   "execution_count": 13,
   "metadata": {},
   "outputs": [
    {
     "data": {
      "text/plain": [
       "True"
      ]
     },
     "execution_count": 13,
     "metadata": {},
     "output_type": "execute_result"
    }
   ],
   "source": [
    "5!=4\n",
    "5 is not 4\n"
   ]
  },
  {
   "cell_type": "code",
   "execution_count": 14,
   "metadata": {},
   "outputs": [],
   "source": [
    "# 2- Logical Operators ...... (And , Or , ! (NOT) )"
   ]
  },
  {
   "cell_type": "code",
   "execution_count": 15,
   "metadata": {},
   "outputs": [],
   "source": [
    "# ///////////AND////////////\n",
    "\n",
    "# TRUE AND TRUE ===> TRUE\n",
    "# FALSE AND TRUE ==> FALSE\n",
    "# TRUE AND FALSE ==> FALSE\n",
    "# FALSE AND FALSE ==> FALSE\n"
   ]
  },
  {
   "cell_type": "code",
   "execution_count": 16,
   "metadata": {},
   "outputs": [
    {
     "data": {
      "text/plain": [
       "True"
      ]
     },
     "execution_count": 16,
     "metadata": {},
     "output_type": "execute_result"
    }
   ],
   "source": [
    "10<20 and 10!=5"
   ]
  },
  {
   "cell_type": "code",
   "execution_count": 17,
   "metadata": {},
   "outputs": [
    {
     "data": {
      "text/plain": [
       "False"
      ]
     },
     "execution_count": 17,
     "metadata": {},
     "output_type": "execute_result"
    }
   ],
   "source": [
    "15!=10 and 15<10"
   ]
  },
  {
   "cell_type": "code",
   "execution_count": 18,
   "metadata": {},
   "outputs": [],
   "source": [
    "# ///////// OR ////////\n",
    "\n",
    "# TRUE OR TRUE ===> TRUE\n",
    "# FALSE OR TRUE ==> TRUE\n",
    "# TRUE OR FALSE ==> TRUE\n",
    "# FALSE OR FALSE ==> FALSE"
   ]
  },
  {
   "cell_type": "code",
   "execution_count": 19,
   "metadata": {},
   "outputs": [
    {
     "data": {
      "text/plain": [
       "True"
      ]
     },
     "execution_count": 19,
     "metadata": {},
     "output_type": "execute_result"
    }
   ],
   "source": [
    "10<20 or 10!=5"
   ]
  },
  {
   "cell_type": "code",
   "execution_count": 20,
   "metadata": {},
   "outputs": [
    {
     "data": {
      "text/plain": [
       "True"
      ]
     },
     "execution_count": 20,
     "metadata": {},
     "output_type": "execute_result"
    }
   ],
   "source": [
    "15!=10 or 15<10"
   ]
  },
  {
   "cell_type": "code",
   "execution_count": 21,
   "metadata": {},
   "outputs": [],
   "source": [
    "# //////// NOT (!) ///////////\n",
    "\n",
    "# TRUE NOT ==> FALSE\n",
    "# FALSE NOT ==> TRUE"
   ]
  },
  {
   "cell_type": "code",
   "execution_count": 22,
   "metadata": {},
   "outputs": [
    {
     "data": {
      "text/plain": [
       "False"
      ]
     },
     "execution_count": 22,
     "metadata": {},
     "output_type": "execute_result"
    }
   ],
   "source": [
    "5 is not 5"
   ]
  },
  {
   "cell_type": "code",
   "execution_count": 23,
   "metadata": {},
   "outputs": [],
   "source": [
    "#     CONDITIONS ,,,,,,,  IF , elif , ELSE\n",
    "\n",
    "#   if cond :\n",
    "#      print()\n",
    "#   elif :\n",
    "#      print()\n",
    "#   else :\n",
    "#      print()"
   ]
  },
  {
   "cell_type": "code",
   "execution_count": 24,
   "metadata": {},
   "outputs": [
    {
     "name": "stdout",
     "output_type": "stream",
     "text": [
      "Plz enter your age: 17\n",
      "PLZ Choose your gender (m / f) :mail\n",
      "Undefined gender\n"
     ]
    }
   ],
   "source": [
    "# Example:\n",
    "\n",
    "#Read age \n",
    "age = float(input('Plz enter your age: '))\n",
    "gender = input('PLZ Choose your gender (m / f) :')\n",
    "# compare age\n",
    "if age >= 18 and (gender == 'm'or gender == 'male'):\n",
    "    print('your request is accepted.')\n",
    "elif age < 18 and (gender == 'm'or gender == 'male'):\n",
    "    print('your request is rejected')\n",
    "elif age >= 20 and (gender == 'f'or gender == 'female'):\n",
    "    print('your request is accepted')\n",
    "elif age < 20 and (gender == 'f'or gender == 'female'):\n",
    "    print('your request is rejected')\n",
    "else :\n",
    "    print('Undefined gender')   \n"
   ]
  },
  {
   "cell_type": "code",
   "execution_count": 25,
   "metadata": {},
   "outputs": [
    {
     "name": "stdout",
     "output_type": "stream",
     "text": [
      "Plz enter your age: 52\n",
      "PLZ Choose your gender (m / f) :f\n",
      "your request is accepted\n"
     ]
    }
   ],
   "source": [
    "# Example:\n",
    "\n",
    "#Read age \n",
    "age = float(input('Plz enter your age: '))\n",
    "gender = input('PLZ Choose your gender (m / f) :')\n",
    "# compare age\n",
    "if age >= 18 and (gender == 'm'or gender == 'male'):\n",
    "    print('your request is accepted.')\n",
    "elif age < 18 and (gender == 'm'or gender == 'male'):\n",
    "    print('your request is rejected')\n",
    "elif age >= 20 and (gender == 'f'or gender == 'female'):\n",
    "    print('your request is accepted')\n",
    "elif age < 20 and (gender == 'f'or gender == 'female'):\n",
    "    print('your request is rejected')\n",
    "else :\n",
    "    print('Undefined gender') "
   ]
  },
  {
   "cell_type": "code",
   "execution_count": 26,
   "metadata": {},
   "outputs": [],
   "source": [
    "# Anther example :    Simple Calculator"
   ]
  },
  {
   "cell_type": "code",
   "execution_count": 27,
   "metadata": {},
   "outputs": [],
   "source": [
    "#  /////// Plz note: ///////\n",
    "\n",
    "# Spicial caracters in Python \n",
    "#  \\n   ===> it means go to next line.\n",
    "#  \\t   ===> it means TAB or space \n",
    "# if your want to use (\\) write it like (\\\\)"
   ]
  },
  {
   "cell_type": "code",
   "execution_count": 29,
   "metadata": {},
   "outputs": [
    {
     "name": "stdout",
     "output_type": "stream",
     "text": [
      "Plz enter first number: 17\n",
      "Plz enter second number: 187\n",
      "plz enter the op: \\\n",
      "Div = 0.09090909090909091\n"
     ]
    }
   ],
   "source": [
    "# Read 1st numbers\n",
    "num1 = float(input('Plz enter first number: '))\n",
    "# Read 2nd numbers\n",
    "num2 = float(input('Plz enter second number: '))\n",
    "# Read the operation\n",
    "op = input('plz enter the op: ')\n",
    "# operation (+)\n",
    "if op == '+' :\n",
    "    print('Sum =', num1+num2)\n",
    "# operation (-)\n",
    "elif op == '-' :\n",
    "    print('SUB =', num1-num2)\n",
    "# operation (*)\n",
    "elif op == '*' or op == 'x' :\n",
    "    print('Multi =', num1*num2)\n",
    "# operation (/)\n",
    "elif op == '/' or op =='\\\\' :\n",
    "    print('Div =', num1/num2)\n",
    "else :\n",
    "    print('Error')"
   ]
  },
  {
   "cell_type": "code",
   "execution_count": null,
   "metadata": {},
   "outputs": [],
   "source": []
  }
 ],
 "metadata": {
  "kernelspec": {
   "display_name": "Python 3",
   "language": "python",
   "name": "python3"
  },
  "language_info": {
   "codemirror_mode": {
    "name": "ipython",
    "version": 3
   },
   "file_extension": ".py",
   "mimetype": "text/x-python",
   "name": "python",
   "nbconvert_exporter": "python",
   "pygments_lexer": "ipython3",
   "version": "3.6.7"
  }
 },
 "nbformat": 4,
 "nbformat_minor": 2
}
